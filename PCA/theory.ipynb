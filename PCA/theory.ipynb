{
 "cells": [
  {
   "cell_type": "markdown",
   "metadata": {},
   "source": [
    "Principal Component Analysis (PCA) is a dimensionality reduction technique commonly used in machine learning to simplify complex datasets by reducing the number of features while preserving the variance. It is particularly useful for dealing with high-dimensional data and can improve model performance by eliminating redundant or less informative features.\n",
    "\n",
    "getting rid of non important features has 2 benefits:\n",
    "\n",
    "-Faster Training and inference\n",
    "\n",
    "-data visulaization becomes easier\n",
    "\n",
    "\n",
    "PCA: figuring out most important features or principal components that has the most impact on the target variable.\n",
    "\n",
    "PCA(n_components=6)......this means asking pca to extract 6 most important features.\n",
    "\n",
    "(or)\n",
    "\n",
    "PCA(0.95)   #0.95...tells pca to retain 95% of useful features and create new dimensions\n",
    "\n",
    "Things to keep in mind befor eusing PCA:\n",
    "\n",
    "-Scale features before applying PCA.\n",
    "\n",
    "-Accuracy might drop.\n",
    "\n",
    "\n",
    "importing PCA:\n",
    "\n",
    "from sklearn.decomposition import PCA"
   ]
  }
 ],
 "metadata": {
  "language_info": {
   "name": "python"
  }
 },
 "nbformat": 4,
 "nbformat_minor": 2
}
